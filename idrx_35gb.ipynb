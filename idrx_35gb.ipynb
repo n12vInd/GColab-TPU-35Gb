{
  "nbformat": 4,
  "nbformat_minor": 0,
  "metadata": {
    "colab": {
      "name": "idrx-35gb.ipynb",
      "private_outputs": true,
      "provenance": [],
      "collapsed_sections": [],
      "machine_shape": "hm"
    },
    "kernelspec": {
      "name": "python3",
      "display_name": "Python 3"
    },
    "accelerator": "TPU"
  },
  "cells": [
    {
      "cell_type": "markdown",
      "metadata": {
        "id": "4cbgwZWWfWpp"
      },
      "source": [
        "# Halo sob.., sebelum mulai hapus history browsing nya dulu ya sob, hapus yang all the time, kalau sudah baru buka Colab & upload lagi file idrx_35gb.ipynb ini. Good Luck! "
      ]
    },
    {
      "cell_type": "code",
      "metadata": {
        "id": "tAb77yZ9fzMG",
        "cellView": "form"
      },
      "source": [
        "#@title 1. Klik & tunggu hasilnya. Kalau belum dapat 40 CPU copy dulu langkah nomor 1 ini ke notepad, lalu klik File (kiri atas) - Move to trash - Return to Colab (kalau ada pertanyaan Leave Site klik Leave aja) - Kalau keluar PopUp Recent File, Klik Google Drive - Klik logo file disamping kanan tanggal, nanti kebuka tab GDrive, hapus semua file ipynb - tutup tab GDrive - balik ke Colab, kalau PopUp masih ada klik Cancel aja - lalu klik File - Upload notebook - Klik Choose File (cari file idrx-25gb.ipynb hasil download) - run lagi (logo play) tunggu hasilnya\n",
        "!lscpu "
      ],
      "execution_count": null,
      "outputs": []
    },
    {
      "cell_type": "code",
      "metadata": {
        "id": "8mQfKRxc2PzK"
      },
      "source": [
        "# 2. Input AuthToken Ngrok & Password Ngrok - lalu klik run - kalau sudah berhasil connect ke terminal or termux etc lanjut ke step 3\n",
        "\n",
        "!pip install colab_ssh --upgrade\n",
        "\n",
        "from colab_ssh import launch_ssh\n",
        "launch_ssh('1wPdk00lb8LBHAdQSAfIDtuL28_87v78yh8fEaWB3J7a76Rp', 'Ngrok_login')"
      ],
      "execution_count": null,
      "outputs": []
    },
    {
      "cell_type": "code",
      "metadata": {
        "cellView": "form",
        "id": "p_eyXn9-3iou"
      },
      "source": [
        "#@title 3. Klik run - lalu klik tanda panah kecil kanan atas samping kanan RAM DISK - klik Focus the last run cell\n",
        "!watch -d -n 0.5 cat /etc/*_ver* /etc/*-rel*"
      ],
      "execution_count": null,
      "outputs": []
    },
    {
      "cell_type": "code",
      "metadata": {
        "id": "H0xupw2rAA1f"
      },
      "source": [
        "# 4. Copy semua yang dibawah ini - lalu klik F12 - pilih Console - Paste & Enter - lalu Close aja Console nya biar enak dilihat\n",
        "\n",
        "function KeepClicking(){\n",
        "   console.log(\"Clicking\");\n",
        "   document.querySelector(\"colab-toolbar-button#connect\").click()\n",
        "}setInterval(KeepClicking,60000)"
      ],
      "execution_count": null,
      "outputs": []
    },
    {
      "cell_type": "code",
      "metadata": {
        "cellView": "form",
        "id": "kfzSJ4rTAo8t"
      },
      "source": [
        "#@title Done! Biasanya akan muncul popup ketika running disekitar menit ke 2 s/d 3, klik aja biar tidak dikira robot. And finally... Selamat Menyangkul di TPU !!\n"
      ],
      "execution_count": null,
      "outputs": []
    }
  ]
}